{
 "cells": [
  {
   "cell_type": "code",
   "execution_count": 3,
   "id": "eaa33a3b-304d-4297-9387-3c60ce0a1401",
   "metadata": {},
   "outputs": [
    {
     "name": "stdout",
     "output_type": "stream",
     "text": [
      "******welcome to python store******\n",
      "Do you want buy a phone?(yes/no)\n"
     ]
    },
    {
     "name": "stdin",
     "output_type": "stream",
     "text": [
      " yes\n"
     ]
    },
    {
     "name": "stdout",
     "output_type": "stream",
     "text": [
      "which phone do you want \n",
      " 1.oneplus\n",
      " 2.samsung\n",
      " 3.iphone\n",
      "\n"
     ]
    },
    {
     "name": "stdin",
     "output_type": "stream",
     "text": [
      " 3\n"
     ]
    },
    {
     "name": "stdout",
     "output_type": "stream",
     "text": [
      "which model do you want \n",
      " 1.iphone xr 1 \n",
      " 2.iphone 15 \n",
      " 3.iphone 13\n"
     ]
    },
    {
     "name": "stdin",
     "output_type": "stream",
     "text": [
      " 3\n"
     ]
    },
    {
     "name": "stdout",
     "output_type": "stream",
     "text": [
      "which color do you want\n",
      " White\n",
      " Black\n",
      " Red\n",
      "\n"
     ]
    },
    {
     "name": "stdin",
     "output_type": "stream",
     "text": [
      " 3\n"
     ]
    },
    {
     "name": "stdout",
     "output_type": "stream",
     "text": [
      "which varient do you want\n",
      " 1.8gbram,128gb stroage\n",
      " 2.16gbram,256gb stroage\n",
      " 3.16gbram,512gb stroage\n",
      "\n"
     ]
    },
    {
     "name": "stdin",
     "output_type": "stream",
     "text": [
      " 1\n"
     ]
    },
    {
     "name": "stdout",
     "output_type": "stream",
     "text": [
      "*****BELOW SPECIFICATION OF PHONE*****\n",
      "Phone Brand: Apple iPhone\n",
      "Model : iPhone 13\n",
      "Color:  3\n",
      "Ram:   8gb , 128gb \n",
      "battery:  3240 mAh\n",
      "camera:  Dual-camera system (wide 50MP+ ultra-wide12MP)\n",
      "display:  6.1-inch LCD\n",
      "weight:  186gm\n",
      "processor: Snapdragon 8 Gen 2\n",
      "screensize:  6.4Inches\n",
      "chargeinbox:  100wcharge\n",
      "price:  39999\n"
     ]
    }
   ],
   "source": [
    " def my_store():\n",
    "    print(\"******welcome to python store******\")\n",
    "    print(\"Do you want buy a phone?(yes/no)\")\n",
    "    choice=input().lower()\n",
    "    if choice ==\"yes\" :\n",
    "        print(\"which phone do you want \\n 1.oneplus\\n 2.samsung\\n 3.iphone\\n\")\n",
    "        phone_choice=input().lower()\n",
    "    \n",
    "        if phone_choice==\"oneplus\" or phone_choice==\"1\":\n",
    "            name='Oneplus'\n",
    "            print(\"which model do you want \\n 1.oneplus nord ce4 \\n 2.oneplus 11r\\n 3.oneplus 12r\")\n",
    "            oneplus_choice=input().lower()\n",
    "            if oneplus_choice==\"oneplus nord ce4\" or  oneplus_choice==\"1\":\n",
    "                brand =\"Oneplus Nord CE4\"\n",
    "                battery= \"5400mAh\"\n",
    "                camera= \"maincamera 50MP,ultra-wide 48MP,Frontcamera 16MP\"\n",
    "                display= \"OLED\"\n",
    "                weight= \"2210gm\"\n",
    "                processor= \"Qualcomm Snapdragon 8 Gen 3 Mobile Platform\"\n",
    "                screensize=\"6.1Inches\"\n",
    "                chargeinbox=\"50wcharge\"\n",
    "            elif oneplus_choice==\"oneplus 11r\" or  oneplus_choice==\"2\":\n",
    "                brand =\"Oneplus 11r\"\n",
    "                #price=\"29999\"\n",
    "                battery= \"5000mAh\"\n",
    "                camera=  \"maincamera 50MP, ultra-wide 8MP,Frontcamera 16MP\"\n",
    "                display=\"6.7 Inches; 120 Hz Super Fluid AMOLED; Resolution: 2772 X 1240 pixels ,450 ppi, 20.1:9, 10-bit Color Depth, HDR10+\"\n",
    "                weight= \"205gm\"\n",
    "                processor= \"Snapdragon 8+ Gen 1 Mobile Platform\"\n",
    "                screensize=\"6.7Inches\"\n",
    "                chargeinbox=\"100wcharge\"\n",
    "            elif oneplus_choice==\"oneplus nord 12r\" or  oneplus_choice==\"3\":\n",
    "                brand =\"Oneplus Nord 12R\"\n",
    "                #price=\"39999\"\n",
    "                battery=  \"5500mAh\"\n",
    "                camera= \"maincamera 50MP,Frontcamera 16MP,macrolens 4cm\"\n",
    "                display= \"OLED\"\n",
    "                weight= \"186gm\"\n",
    "                processor=\"Snapdragon 8 Gen 2\"\n",
    "                screensize=\"6.1Inches\"\n",
    "                chargeinbox=\"100wcharge\"\n",
    "            else:\n",
    "                print(f\"sorry {oneplus_choice} brand is not available\")\n",
    "                return\n",
    "                \n",
    "        elif phone_choice==\"samsung\" or phone_choice=='2':\n",
    "            name='Samsung'\n",
    "            print(\"which model do you want \\n 1.samsung galaxy a35 \\n 2.samsung galaxy s24\\n 3.samsung galaxy s23\")\n",
    "            sam_choice=input().lower()\n",
    "            if sam_choice==\"samsung galaxy a35\" or  sam_choice==\"1\":\n",
    "                #price=\"49999\"\n",
    "                brand =\"Samsung Galaxy A35\"\n",
    "                battery= \"5000mAh\"\n",
    "                camera= \"maincamera 50MP,ultra-wide 48MP,Frontcamera 13MP\"\n",
    "                display= \"AMOLED ;2340x1080 pixels;refreshrate:120hertz\"\n",
    "                weight=\"2210gm\"\n",
    "                processor=\"Qualcomm Snapdragon\"\n",
    "                screensize=\"6.1Inches\"\n",
    "                chargeinbox=\"50wcharge\"\n",
    "            elif sam_choice==\"samsung galaxy s24\" or  sam_choice==\"2\":\n",
    "                #price=\"56999\"\n",
    "                brand =\"Samsung Galaxy S24\"\n",
    "                battery=\"4000mAh\"\n",
    "                camera=\"maincamera 50MP, ultra-wide 12MP,Frontcamera 12MP\"\n",
    "                display=\"15.64centemeters ; 120hertz  AMOLED; Resolution: 2340x1080 pixels \"\n",
    "                weight=\"167gm\"\n",
    "                processor=\"Snapdragon Qualocomn\"\n",
    "                screensize= \"15.64 centimeters\"\n",
    "                chargeinbox=\"100wcharge\"\n",
    "            elif sam_choice==\"samsung galaxy s23 fe\" or  sam_choice==\"3\":\n",
    "                #price=\"47999\"\n",
    "                brand =\"Samsung Galaxy S23\"\n",
    "                battery=\"4500mAh\"\n",
    "                camera=\"maincamera 50MP,Frontcamera 16MP,macrolens 4cm\"\n",
    "                display= \"AMOLED\"\n",
    "                weight=\"209gm\"\n",
    "                processor= \"Snapdragon Qualocomn\"\n",
    "                screensize= \"6.4Inches\"\n",
    "                chargeinbox= \"100wcharge\"\n",
    "            else:\n",
    "                print(f\"sorry{sam_choice} is not available in python store\")\n",
    "                return\n",
    "\n",
    "        elif phone_choice==\"iphone\" or phone_choice==\"3\":\n",
    "             name='Apple iPhone'\n",
    "             print(\"which model do you want \\n 1.iphone xr 1 \\n 2.iphone 15 \\n 3.iphone 13\")\n",
    "             iphone_choice=input().lower()\n",
    "             if iphone_choice==\"iphone xr\" or  iphone_choice==\"1\":\n",
    "                #price=\"59999\"\n",
    "                brand =\"iPhone XR\"\n",
    "                battery=\"2942 mAh\"\n",
    "                camera=\"Single 12 MP wide-angle,frontcamera 7MP\"\n",
    "                display=\"6.06-inch LCD Screen\"\n",
    "                weight=\"194gm\"\n",
    "                processor=\"A16 Bionic Chip;Hexa Core\"\n",
    "                screensize= \"6.4Inches\"\n",
    "                chargeinbox=\"80wcharge\"\n",
    "             elif iphone_choice==\"iphone 15\" or  iphone_choice==\"2\":\n",
    "                #price=\"79999\"\n",
    "                brand =\"iPhone 15\"\n",
    "                battery=\"3349mAh\"\n",
    "                camera=\"maincamera 48MP, ultra-wide 12MP,Frontcamera 12MP\"\n",
    "                display=\"15.49cm(6.1 inchs)\"\n",
    "                weight=\"171gm\"\n",
    "                processor=\"A16 Bionic Chip;Hexa Core\"\n",
    "                screensize= \"6.4Inches\" \n",
    "                chargeinbox=\"100wcharge\"\n",
    "             elif iphone_choice==\"iphone 13\" or  iphone_choice==\"3\":\n",
    "                #price=\"69999\"\n",
    "                brand =\"iPhone 13\"\n",
    "                battery= \"3240 mAh\"\n",
    "                camera= \"Dual-camera system (wide 50MP+ ultra-wide12MP)\"\n",
    "                display=\"6.1-inch LCD\"\n",
    "                weight=\"186gm\"\n",
    "                processor=\"Snapdragon 8 Gen 2\"\n",
    "                screensize= \"6.4Inches\"\n",
    "                chargeinbox=\"100wcharge\"\n",
    "                 \n",
    "             else:\n",
    "                 print(f\"sorry{brand_choice} brand is not available in python store\")\n",
    "                 return\n",
    "        else:\n",
    "            print(f\"sorry{phone_choice} phone is not available in python store\")\n",
    "            return\n",
    "        print(\"which color do you want\\n White\\n Black\\n Red\\n\")\n",
    "        color_choice=input().lower()\n",
    "        print(\"which varient do you want\\n 1.8gbram,128gb stroage\\n 2.16gbram,256gb stroage\\n 3.16gbram,512gb stroage\\n\")\n",
    "        ram_choice=input().lower()\n",
    "        if ram_choice==\"8gbram ,128GB stroage\" or ram_choice==\"1\":\n",
    "            store=\"8gb , 128gb \"\n",
    "            price = 39999\n",
    "        elif ram_choice==\"16gbram ,256gb stroage\" or ram_choice==\"2\":\n",
    "            store=\"16gb , 256gb \"\n",
    "            price = 59000\n",
    "        elif ram_choice==\"16gbram , 512gb stroage\" or ram_choice==\"3\":\n",
    "            store=\"16gb , 512gb \"\n",
    "            price = 89999\n",
    "        pass   \n",
    "        print(\"*****BELOW SPECIFICATION OF PHONE*****\")\n",
    "        print(f\"Phone Brand: {name}\")\n",
    "        print(f\"Model : {brand}\")\n",
    "        print(f\"Color:  {color_choice}\")\n",
    "        print(f\"Ram:   {store}\")\n",
    "        print(f\"battery:  {battery}\")\n",
    "        print(f\"camera:  {camera}\")\n",
    "        print(f\"display:  {display}\")\n",
    "        print(f\"weight:  {weight}\")\n",
    "        print(f\"processor: {processor}\")\n",
    "        print(f\"screensize:  {screensize}\")\n",
    "        print(f\"chargeinbox:  {chargeinbox}\")\n",
    "        print(f\"price:  {price}\")\n",
    "    elif choice ==\"no\":\n",
    "        print(\"Thank you for visiting,visit again\")\n",
    "    else :\n",
    "        print(\"sorry mention any optin here\")\n",
    "        \n",
    "my_store()    \n",
    "    \n",
    "\n",
    "\n"
   ]
  },
  {
   "cell_type": "code",
   "execution_count": null,
   "id": "b9714235-38bb-4a62-a095-21409cdcfc3e",
   "metadata": {},
   "outputs": [],
   "source": []
  },
  {
   "cell_type": "code",
   "execution_count": null,
   "id": "10400e46-4a99-4a49-ae62-7c482d029039",
   "metadata": {},
   "outputs": [],
   "source": []
  },
  {
   "cell_type": "code",
   "execution_count": null,
   "id": "385a90d7-441a-4aad-b017-a8ae551b67f7",
   "metadata": {},
   "outputs": [],
   "source": []
  }
 ],
 "metadata": {
  "kernelspec": {
   "display_name": "Python 3 (ipykernel)",
   "language": "python",
   "name": "python3"
  },
  "language_info": {
   "codemirror_mode": {
    "name": "ipython",
    "version": 3
   },
   "file_extension": ".py",
   "mimetype": "text/x-python",
   "name": "python",
   "nbconvert_exporter": "python",
   "pygments_lexer": "ipython3",
   "version": "3.12.4"
  }
 },
 "nbformat": 4,
 "nbformat_minor": 5
}
